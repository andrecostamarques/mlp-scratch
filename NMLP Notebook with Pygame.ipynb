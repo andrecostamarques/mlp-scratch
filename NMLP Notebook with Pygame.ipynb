{
 "cells": [
  {
   "cell_type": "code",
   "execution_count": 2,
   "metadata": {
    "colab": {
     "base_uri": "https://localhost:8080/"
    },
    "id": "qdkxlz4sH9g7",
    "outputId": "f60e2f0f-9cd6-41d9-9e3f-89a62e1a9b0d"
   },
   "outputs": [
    {
     "name": "stderr",
     "output_type": "stream",
     "text": [
      "2025-09-02 18:48:56.495410: E external/local_xla/xla/stream_executor/cuda/cuda_fft.cc:477] Unable to register cuFFT factory: Attempting to register factory for plugin cuFFT when one has already been registered\n",
      "WARNING: All log messages before absl::InitializeLog() is called are written to STDERR\n",
      "E0000 00:00:1756849736.510411   32354 cuda_dnn.cc:8310] Unable to register cuDNN factory: Attempting to register factory for plugin cuDNN when one has already been registered\n",
      "E0000 00:00:1756849736.514817   32354 cuda_blas.cc:1418] Unable to register cuBLAS factory: Attempting to register factory for plugin cuBLAS when one has already been registered\n",
      "2025-09-02 18:48:56.531099: I tensorflow/core/platform/cpu_feature_guard.cc:210] This TensorFlow binary is optimized to use available CPU instructions in performance-critical operations.\n",
      "To enable the following instructions: SSE4.1 SSE4.2 AVX AVX2 FMA, in other operations, rebuild TensorFlow with the appropriate compiler flags.\n"
     ]
    }
   ],
   "source": [
    "#importando as imagens\n",
    "import tensorflow as tf\n",
    "from tensorflow.keras.datasets import fashion_mnist\n",
    "import numpy as np\n",
    "import matplotlib.pyplot as plt\n",
    "import copy\n",
    "from PIL import Image\n",
    "import math\n",
    "import cv2\n",
    "import random\n",
    "import pickle\n",
    "\n",
    "dataset_int = 0\n",
    "\n",
    "if dataset_int == 0:\n",
    "  # modelo de predição é geral, só tem que mudar entrada de dados e o label\n",
    "  dataset = tf.keras.datasets.mnist\n",
    "  labels = {\n",
    "    0: '0',\n",
    "    1: '1',\n",
    "    2: '2',\n",
    "    3: '3',\n",
    "    4: '4',\n",
    "    5: '5',\n",
    "    6: '6',\n",
    "    7: '7',\n",
    "    8: '8',\n",
    "    9: '9'\n",
    "    }\n",
    "elif dataset_int == 1:\n",
    "    dataset = fashion_mnist\n",
    "    labels = {\n",
    "      0: 'T-shirt/top',\n",
    "      1: 'Trouser',\n",
    "      2: 'Pullover',\n",
    "      3: 'Dress',\n",
    "      4: 'Coat',\n",
    "      5: 'Sandal',\n",
    "      6: 'Shirt',\n",
    "      7: 'Sneaker',\n",
    "      8: 'Bag',\n",
    "      9: 'Ankle boot'\n",
    "  }\n",
    "\n",
    "# Carregar o dataset\n",
    "(train_images, train_labels), (test_images, test_labels) = dataset.load_data()\n"
   ]
  },
  {
   "cell_type": "code",
   "execution_count": 3,
   "metadata": {
    "id": "ndC4sey6Qjdc"
   },
   "outputs": [],
   "source": [
    "def sigmoid(x):\n",
    "    return 1 / (1 + np.exp(-x))\n",
    "\n",
    "def sigmoid_derivative(x):\n",
    "    return x * (1 - x)\n",
    "\n",
    "def imageAugmentation(image):\n",
    "  # Obter as dimensões da imagem\n",
    "    (h, w) = image.shape[:2]\n",
    "\n",
    "    # 1. Rotação aleatória entre -45 e 45 graus\n",
    "    angulo = random.uniform(-60, 60)\n",
    "    centro = (w // 2, h // 2)\n",
    "    matriz_rotacao = cv2.getRotationMatrix2D(centro, angulo, 1.0)\n",
    "    image = cv2.warpAffine(image, matriz_rotacao, (w, h))\n",
    "\n",
    "    # 2. Translação aleatória de até 5px\n",
    "    tx = random.uniform(-5, 5)  # Transladar aleatoriamente até 5 pixels horizontalmente\n",
    "    ty = random.uniform(-5, 5)  # Transladar aleatoriamente até 5 pixels verticalmente\n",
    "    matriz_translacao = np.float32([[1, 0, tx], [0, 1, ty]])\n",
    "    image = cv2.warpAffine(image, matriz_translacao, (w, h))\n",
    "\n",
    "    num_pontos_ruido = random.randint(8, 32)  # Adicionar de 5 a 10 pontos de ruído\n",
    "\n",
    "    for _ in range(num_pontos_ruido):\n",
    "        # Escolher uma coordenada aleatória na imagem\n",
    "        x = random.randint(0, w - 1)\n",
    "        y = random.randint(0, h - 1)\n",
    "\n",
    "        # Escolher se será um ponto claro (sal) ou escuro (pimenta)\n",
    "        if random.random() < 0.5:\n",
    "            image[y, x] = 255  # Ponto branco (sal)\n",
    "        else:\n",
    "            image[y, x] = 0    # Ponto preto (pimenta)\n",
    "\n",
    "    return image"
   ]
  },
  {
   "cell_type": "code",
   "execution_count": 4,
   "metadata": {},
   "outputs": [
    {
     "name": "stdout",
     "output_type": "stream",
     "text": [
      "(120000, 28, 28)\n"
     ]
    }
   ],
   "source": [
    "lista_images = []\n",
    "lista_labels = []\n",
    "\n",
    "for j in range(0,1):\n",
    "    for i in range(0, len(train_images)):\n",
    "        aux_image = imageAugmentation(train_images[i])\n",
    "        aux_label = train_labels[i]\n",
    "        lista_images.append(aux_image)\n",
    "        lista_labels.append(aux_label)\n",
    "\n",
    "train_images = np.concatenate((train_images, np.array(lista_images)), axis=0)  # Adiciona ao eixo 0\n",
    "train_labels = np.concatenate((train_labels, np.array(lista_labels)), axis=0)\n",
    "\n",
    "print(train_images.shape)"
   ]
  },
  {
   "cell_type": "code",
   "execution_count": 5,
   "metadata": {},
   "outputs": [
    {
     "data": {
      "text/plain": [
       "<matplotlib.image.AxesImage at 0x7f819f7228d0>"
      ]
     },
     "execution_count": 5,
     "metadata": {},
     "output_type": "execute_result"
    },
    {
     "data": {
      "image/png": "[encoded data removed]",
      "text/plain": [
       "<Figure size 640x480 with 1 Axes>"
      ]
     },
     "metadata": {},
     "output_type": "display_data"
    }
   ],
   "source": [
    "plt.imshow(train_images[95000], cmap= 'gray')"
   ]
  },
  {
   "cell_type": "code",
   "execution_count": 6,
   "metadata": {},
   "outputs": [],
   "source": [
    "# Achatar as imagens 28x28 para uma matriz com 784 colunas (28*28 = 784)\n",
    "train_images_flat = train_images.reshape(train_images.shape[0], train_images.shape[1]*train_images.shape[1])\n",
    "test_images_flat = test_images.reshape(test_images.shape[0], test_images.shape[1]*test_images.shape[1])\n",
    "\n",
    "# Normalizar os valores dos pixels para o intervalo [0, 1]\n",
    "train_images_flat = train_images_flat / 255.0\n",
    "test_images_flat = test_images_flat / 255."
   ]
  },
  {
   "cell_type": "code",
   "execution_count": 7,
   "metadata": {
    "id": "RLTy5vME4pDM"
   },
   "outputs": [],
   "source": [
    "class NeuralNetwork: #duvida -> será que inicio com uma array só? camada input, camada escondida e camada final tudo no mesmo?\n",
    "    #classe que recebe as caracteristicas das camadas e cria os objetos\n",
    "    def __init__ (self, images_train, labels_train, cam_escondida, cam_final, index_image): #cam_escondida = array que tem qnt neuronios das camadas = [10, 10] = 2 camadas com 10 neuronios\n",
    "        self.index_image = index_image\n",
    "        self.camada_input_valor = images_train[self.index_image] #camada de input já direta (não é tamanho, é a camada inteira mesmo)\n",
    "        self.cam_escondida = cam_escondida #array com os tamanhos camadas hiddens\n",
    "        self.cam_final = cam_final #tamanho da camada final\n",
    "        self.cost_std = np.zeros(cam_final)\n",
    "        self.cost_std[labels_train[self.index_image]] = 1\n",
    "        self.number_loops = len(self.cam_escondida) # 1\n",
    "        self.images_train = images_train\n",
    "        self.labels_train = labels_train\n",
    "\n",
    "    def updateImage(self, index_image):\n",
    "      self.index_image = index_image\n",
    "      self.camada_input_valor = self.images_train[self.index_image]\n",
    "      self.cost_std = np.zeros(10)\n",
    "      self.cost_std[self.labels_train[self.index_image]] = 1\n",
    "\n",
    "    def initiateNN(self):\n",
    "      self.camada_pesos = []\n",
    "      self.camada_bias = []   #gera as listas das camadas (lista de vetores)\n",
    "      self.camada_valores = []\n",
    "\n",
    "      self.camada_input_pesos = np.random.randn(self.cam_escondida[0], self.camada_input_valor.shape[0]) #gera os pesos do input\n",
    "      self.camada_final_valor = np.zeros((self.cam_final,1)) #gera os valores finais\n",
    "\n",
    "      for i in range(len(self.cam_escondida)):\n",
    "        if(i != len(self.cam_escondida)-1): #2 camada à penultima camada\n",
    "          self.camada_pesos.append(np.random.randn(self.cam_escondida[i+1], self.cam_escondida[i]))\n",
    "          self.camada_bias.append(np.zeros(self.cam_escondida[i]))\n",
    "          self.camada_valores.append(np.zeros((self.cam_escondida[i],1)))\n",
    "\n",
    "        else: #ultima camada\n",
    "          self.camada_pesos.append(np.random.randn(self.cam_final, self.cam_escondida[i]))\n",
    "          self.camada_bias.append(np.zeros(self.cam_escondida[i]))\n",
    "          self.camada_valores.append(np.zeros((self.cam_escondida[i],1)))\n",
    "\n",
    "    def print_camadas(self):\n",
    "        # Shape do valor da camada inicial\n",
    "        print(f\"Input Valor: {self.camada_input_valor.shape}\")\n",
    "        # Shape do peso da camada inicial\n",
    "        print(f\"Input Peso: {self.camada_input_pesos.shape}\")\n",
    "\n",
    "        # Iterar sobre as camadas intermediárias\n",
    "        for i in range(0, len(self.cam_escondida)):\n",
    "            print(f\"Valor Camada Escondida {i}: {self.camada_valores[i].shape}\")\n",
    "            print(f\"Peso Camada Escondida {i}: {self.camada_pesos[i].shape}\")\n",
    "            print(f\"Bias Camada Escondida {i}: {self.camada_bias[i].shape}\")\n",
    "\n",
    "        # Shape do valor da camada final\n",
    "        print(f\"Resultado Valor: {self.camada_final_valor.shape}\")\n",
    "        print(\"\\n\")\n",
    "\n",
    "\n",
    "    def fPropagation(self):\n",
    "      #print(\"Quantidade de Loop: \", self.number_loops)\n",
    "      for i in range(self.number_loops + 1): #tem que adicionar 1, range não inclui o último indice\n",
    "        #camada2_valor = sigmoid(np.dot(camada1_pesos, camada1_valor) + camada2_bias)\n",
    "        #camada3_valor = sigmoid(np.dot(camada2_pesos, camada2_valor))\n",
    "        if(i == 0 and i < self.number_loops):\n",
    "          self.camada_valores[i] = sigmoid(np.dot(self.camada_input_pesos, self.camada_input_valor) + self.camada_bias[i])\n",
    "          #print(\"Indice: \", i)\n",
    "        elif (i != 0 and i < self.number_loops):\n",
    "          self.camada_valores[i] = sigmoid(np.dot(self.camada_pesos[i-1], self.camada_valores[i-1]) + self.camada_bias[i])\n",
    "          #print(\"Indice: \", i)\n",
    "        elif (i == self.number_loops):\n",
    "          self.camada_final_valor = sigmoid(np.dot(self.camada_pesos[i-1], self.camada_valores[i-1]))\n",
    "          #print(\"Indice: \", i)\n",
    "          #print(\"Chegou no final da Forward Propagation\\n\")\n",
    "\n",
    "    def costFunc(self):\n",
    "        cost = np.sum(np.power((self.camada_final_valor - self.cost_std),2))\n",
    "        return cost\n",
    "\n",
    "    #recebe o objeto atual e retorna o gradiente daquela imagem\n",
    "    #o vetor gradiente está salvando as modificações da direita para esquerda: camada inicial <- camada final\n",
    "    #vetor gradiente = matriz que multiplica pelo learning rate e soma no peso\n",
    "\n",
    "    def bPropagation(self):\n",
    "\n",
    "        gradiente_pesos = []\n",
    "        gradiente_bias = []\n",
    "\n",
    "        delta_o = self.camada_final_valor - self.cost_std\n",
    "\n",
    "        for i in reversed(range(len(self.cam_escondida))):\n",
    "          #vai pegar a ultima camada e continuar\n",
    "          if i == self.number_loops-1: #se for a ultima hidden layer -> atualiza os pesos com base no delta_o\n",
    "            delta_h = delta_o #* sigmoid_derivative(self.camada_final_valor)#sigmoid da camada final = 1\n",
    "            #esse aqui nao calcula o bias (a camada final nao tem bias)\n",
    "            #print(i, \" - \", delta_h.shape)\n",
    "\n",
    "          elif i != self.number_loops-1: #enquanto não for a ultima hidden layer e nem a primeira\n",
    "            delta_h = np.dot(self.camada_pesos[i+1].T, delta_h) * sigmoid_derivative(self.camada_valores[i+1])\n",
    "            gradiente_bias.insert(0,delta_h)\n",
    "            #print(i, \" - \", delta_h.shape)\n",
    "\n",
    "          vetor_gradiente = np.outer(delta_h, self.camada_valores[i])\n",
    "          gradiente_pesos.insert(0,vetor_gradiente)\n",
    "\n",
    "        delta_h = np.dot(self.camada_pesos[0].T, delta_h) * sigmoid_derivative(self.camada_valores[0])\n",
    "        gradiente_bias.insert(0,delta_h)\n",
    "        #print(i, \" - \", sigmoid_derivative(self.camada_input_valor).shape)\n",
    "        vetor_gradiente = np.outer(delta_h, self.camada_input_valor)\n",
    "        gradiente_pesos.insert(0,vetor_gradiente) #ja adiciona na lista e pula o resto da iteração\n",
    "\n",
    "      # Exibir as formas dos gradientes de pesos\n",
    "        # print(len(self.gradiente_pesos))\n",
    "        # for i in range(len(self.gradiente_pesos)):\n",
    "        #     print(\"Gradiente Pesos: \", self.gradiente_pesos[i].shape)\n",
    "        # print(len(self.gradiente_bias))\n",
    "        # for i in range(len(self.gradiente_bias)):\n",
    "        #     print(\"Gradiente Bias: \\n\", self.gradiente_bias[i].shape)\n",
    "\n",
    "        return gradiente_pesos, gradiente_bias #PRECISO DISSO PARA CALCULAR A MÉDIA DOS GRADIENTES\n",
    "        #media dos gradientes é calculado no LOOP PRINCIPAL\n",
    "\n",
    "    def updateWeights(self, learning_rate, gradiente_pesos): #recebe o gradiente médio do batch dos pesos -> atualiza o peso da rede neural com base no learning rate\n",
    "      self.camada_input_pesos = self.camada_input_pesos - learning_rate * gradiente_pesos[0]\n",
    "      for i in range(len(gradiente_pesos)):\n",
    "        if i == 0: #se é o primeiro\n",
    "          self.camada_input_pesos = self.camada_input_pesos - learning_rate * gradiente_pesos[i]\n",
    "        else:\n",
    "          self.camada_pesos[i-1] = self.camada_pesos[i-1] - learning_rate * gradiente_pesos[i]\n",
    "\n",
    "    def updateBias(self, learning_rate, gradiente_bias): #recebe o gradiente médio do batch dos bias -> atualiza o bias da rede neural com base no learning rate\n",
    "      #void que só atualiza os bias da rede neural, não retorna nada\n",
    "      for i in range(len(self.camada_bias)):\n",
    "          self.camada_bias[i] = self.camada_bias[i] - learning_rate * gradiente_bias[i]\n",
    "\n",
    "    def embaralhar_dados(self):\n",
    "      indices = np.random.permutation(self.images_train.shape[0])\n",
    "\n",
    "      # Aplicar a permutação às imagens e labels\n",
    "      self.images_train = self.images_train[indices]\n",
    "      self.labels_train = self.labels_train[indices]\n",
    "    \n",
    "    def updateImageTest(self, test_images, index_image):\n",
    "      self.camada_input_valor = test_images[index_image]\n",
    "\n",
    "    def updateImageCustom(self, test_image):\n",
    "        test_image = Image.open(test_image).convert('L')  # 'L' é para grayscale (escala de cinza)\n",
    "        test_image = np.array(test_image)\n",
    "\n",
    "        tamanho_image = self.camada_input_valor.shape[0]\n",
    "        tamanho_image = int(math.sqrt(tamanho_image))\n",
    "        \n",
    "        # Verifica se a imagem tem as dimensões corretas (28x28)\n",
    "        assert test_image.shape == (tamanho_image, tamanho_image), \"A imagem deve ter a quantidade de pixels correta.\"\n",
    "\n",
    "        # Achata a imagem para ser um vetor de 28*28\n",
    "        test_image = test_image.reshape(tamanho_image*tamanho_image)\n",
    "        test_image = test_image/255.0\n",
    "        \n",
    "        self.camada_input_valor = test_image\n",
    "\n",
    "    def updateImageCustomDraw(self, test_image):\n",
    "        # Certifique-se que test_image é um numpy array\n",
    "        if isinstance(test_image, np.ndarray):\n",
    "            # Verifica se a imagem tem as dimensões corretas (28x28)\n",
    "            assert test_image.shape == (28, 28), \"A imagem deve ter a quantidade de pixels correta.\"\n",
    "        else:\n",
    "            raise ValueError(\"test_image deve ser um array numpy.\")\n",
    "\n",
    "        # Achata a imagem para ser um vetor de 28*28\n",
    "        test_image = test_image.reshape(28 * 28)\n",
    "        test_image = test_image / 255.0\n",
    "\n",
    "        self.camada_input_valor = test_image\n",
    "\n",
    "    def testeModelo(self, test_images, test_labels):\n",
    "\n",
    "      qnt_certos = 0\n",
    "\n",
    "      for i in range(len(test_images)):\n",
    "        self.updateImageTest(test_images, i)\n",
    "        self.fPropagation()\n",
    "        indice_max = np.argmax(self.camada_final_valor)\n",
    "        if indice_max == test_labels[i]:\n",
    "          qnt_certos += 1\n",
    "\n",
    "      return qnt_certos/len(test_images) * 100\n",
    "\n",
    "\n",
    "    def preverImagem(self, test_images, test_labels, index):\n",
    "      self.updateImageTest(test_images, index)\n",
    "      self.fPropagation()\n",
    "      indice_max = np.argmax(self.camada_final_valor)\n",
    "\n",
    "      if(indice_max == test_labels[index]):\n",
    "        print(\"Correto: \", \"\\nPrevisto: \",labels[indice_max], \" - Certeza: \", self.camada_final_valor[indice_max] * 100, \"%\", \"\\nEsperado: \", labels[test_labels[index]])\n",
    "      else:\n",
    "        print(\"Incorreto: \", \"\\nPrevisto: \",labels[indice_max], \" - Certeza: \", self.camada_final_valor[indice_max] * 100, \"%\", \"\\nEsperado: \", labels[test_labels[index]])\n",
    "\n",
    "      tamanho_image = self.camada_input_valor.shape[0]\n",
    "      tamanho_image = int(math.sqrt(tamanho_image))\n",
    "      img_reshaped = test_images[index].reshape(tamanho_image, tamanho_image)\n",
    "\n",
    "      # Exibe a imagem utilizando o matplotlib\n",
    "      plt.imshow(img_reshaped, cmap='gray')\n",
    "      plt.show()\n",
    "\n",
    "    def copy(self):\n",
    "      # Faz uma cópia profunda do objeto atual\n",
    "        copia_rede = NeuralNetwork(\n",
    "            self.images_train,\n",
    "            self.labels_train,\n",
    "            copy.deepcopy(self.cam_escondida),\n",
    "            copy.deepcopy(self.cam_final),\n",
    "            self.index_image\n",
    "        )\n",
    "        # Copia todos os atributos necessários\n",
    "        copia_rede.camada_input_valor = copy.deepcopy(self.camada_input_valor)\n",
    "        copia_rede.camada_pesos = copy.deepcopy(self.camada_pesos)\n",
    "        copia_rede.camada_bias = copy.deepcopy(self.camada_bias)\n",
    "        copia_rede.camada_valores = copy.deepcopy(self.camada_valores)\n",
    "        copia_rede.camada_input_pesos = copy.deepcopy(self.camada_input_pesos)\n",
    "        copia_rede.camada_final_valor = copy.deepcopy(self.camada_final_valor)\n",
    "        copia_rede.cost_std = copy.deepcopy(self.cost_std)\n",
    "\n",
    "        return copia_rede\n",
    "\n",
    "    def verCamadaHidden(self):\n",
    "      tamanho_image = self.camada_input_valor.shape[0]\n",
    "      tamanho_image = int(math.sqrt(tamanho_image))\n",
    "      for i in range(self.camada_input_pesos.shape[0]):\n",
    "        aux_image = self.camada_input_pesos[i].reshape(tamanho_image, tamanho_image)\n",
    "\n",
    "        # Exibe a imagem utilizando o matplotlib\n",
    "        plt.imshow(aux_image, cmap='gray')\n",
    "        plt.show()\n",
    "\n",
    "    def preverImagemCustom(self,customImage):\n",
    "      self.updateImageCustom(customImage)\n",
    "      self.fPropagation()\n",
    "      indice_max = np.argmax(self.camada_final_valor)\n",
    "\n",
    "      print(\"Previsto: \", labels[indice_max], \" - Certeza: \", self.camada_final_valor[indice_max] * 100,\"%\")\n",
    "\n",
    "      # Exibe a imagem utilizando o matplotlib\n",
    "      tamanho_image = self.camada_input_valor.shape[0]\n",
    "      tamanho_image = int(math.sqrt(tamanho_image))\n",
    "      img_reshaped = self.camada_input_valor.reshape(tamanho_image, tamanho_image)\n",
    "      plt.imshow(img_reshaped, cmap='gray')\n",
    "      plt.show()\n",
    "\n",
    "    def preverImageCustomOnlyText(self, customImage):\n",
    "      self.updateImageCustomDraw(customImage)\n",
    "      self.fPropagation()\n",
    "      indice_max = np.argmax(self.camada_final_valor)\n",
    "\n",
    "      return labels[indice_max], self.camada_final_valor[indice_max]*100\n"
   ]
  },
  {
   "cell_type": "code",
   "execution_count": 8,
   "metadata": {
    "id": "ILzrrLwPgkQx"
   },
   "outputs": [],
   "source": [
    "def soma_gradiente(pesoMedio, biasMedio, pesoNovo, biasNovo):\n",
    "  pesoMedioAtualizado = []\n",
    "  biasMedioAtualizado = []\n",
    "\n",
    "  for i in range(len(pesoMedio)):\n",
    "    auxMedio = np.array(pesoMedio[i])\n",
    "    auxNovo = np.array(pesoNovo[i])\n",
    "    auxresult = auxMedio + auxNovo\n",
    "    pesoMedioAtualizado.append(auxresult)\n",
    "  for i in range(len(biasMedio)):\n",
    "    auxMedio = np.array(biasMedio[i])\n",
    "    auxNovo = np.array(biasNovo[i])\n",
    "    auxresult = auxMedio + auxNovo\n",
    "    biasMedioAtualizado.append(auxresult)\n",
    "\n",
    "  return pesoMedioAtualizado, biasMedioAtualizado\n"
   ]
  },
  {
   "cell_type": "code",
   "execution_count": 9,
   "metadata": {
    "id": "2kBFP0OClbg4"
   },
   "outputs": [],
   "source": [
    "def media_gradiente(gradientePeso, gradienteBias, batch_size):\n",
    "  mediaGradientePeso = []\n",
    "  mediaGradienteBias = []\n",
    "\n",
    "  for i in range(len(gradientePeso)):\n",
    "    auxMedio = np.array(gradientePeso[i])\n",
    "    auxresult = auxMedio/batch_size\n",
    "    mediaGradientePeso.append(auxresult)\n",
    "\n",
    "  for i in range(len(gradienteBias)):\n",
    "    auxMedio = np.array(gradienteBias[i])\n",
    "    auxresult = auxMedio/batch_size\n",
    "    mediaGradienteBias.append(auxresult)\n",
    "\n",
    "  return mediaGradientePeso, mediaGradienteBias"
   ]
  },
  {
   "cell_type": "code",
   "execution_count": 10,
   "metadata": {
    "id": "9SMDm5COrctW"
   },
   "outputs": [],
   "source": [
    "def treinarRede(redeNeural, learning_rate, batch_size, epocas, test_images, test_labels):\n",
    "    # Inicializando a rede neural\n",
    "    lista_precisao = []\n",
    "    lista_custo = []\n",
    "    melhor_modelo = 0\n",
    "    redeNeural.initiateNN()\n",
    "    imagemPadrao = redeNeural.camada_input_valor\n",
    "    redeNeural.fPropagation()\n",
    "    lista_custo.append(redeNeural.costFunc())\n",
    "    print(\"Custo Inicial: \",redeNeural.costFunc())\n",
    "\n",
    "    for i in range(epocas): # Quantidade de épocas\n",
    "\n",
    "        redeNeural.embaralhar_dados()\n",
    "        redeNeural.updateImage(0)\n",
    "        redeNeural.fPropagation()\n",
    "\n",
    "        if i == 0:\n",
    "          lista_precisao.append(redeNeural.testeModelo(test_images, test_labels))\n",
    "\n",
    "        aux_index = 0  # Reinicia o índice auxiliar para cada época\n",
    "\n",
    "        for k in range(len(redeNeural.images_train) // batch_size):\n",
    "            # Inicializa os gradientes com o primeiro exemplo do batch\n",
    "            redeNeural.updateImage(aux_index)\n",
    "            pesoMedio, biasMedio = redeNeural.bPropagation()  # -> lista de ndarray\n",
    "\n",
    "            for j in range(1, batch_size):  # Para o restante do batch\n",
    "                redeNeural.updateImage(j + aux_index)\n",
    "                redeNeural.fPropagation()\n",
    "                pesoNovo, biasNovo = redeNeural.bPropagation()\n",
    "                pesoMedio, biasMedio = soma_gradiente(pesoMedio, biasMedio, pesoNovo, biasNovo)  # Soma gradientes\n",
    "\n",
    "            # Calcula o gradiente médio para o batch\n",
    "            gradientePeso, gradienteBias = media_gradiente(pesoMedio, biasMedio, batch_size)\n",
    "            redeNeural.updateWeights(learning_rate, gradientePeso)  # Atualiza pesos\n",
    "            redeNeural.updateBias(learning_rate, gradienteBias)  # Atualiza bias\n",
    "            redeNeural.fPropagation()\n",
    "\n",
    "            aux_index += batch_size  # Atualiza o índice para o próximo batch\n",
    "\n",
    "        redeNeural.camada_input_valor = imagemPadrao\n",
    "        redeNeural.fPropagation()\n",
    "        lista_custo.append(redeNeural.costFunc())\n",
    "\n",
    "        # Realiza propagação após a atualização dos pesos e bias\n",
    "        print(f'Época {i + 1}/{epocas}, Custo: {lista_custo[i+1]}')\n",
    "        lista_precisao.append(redeNeural.testeModelo(test_images, test_labels))\n",
    "        print(f'Época {i + 1}/{epocas}, Precisão: {lista_precisao[i+1]}')\n",
    "\n",
    "        if(lista_precisao[i+1] > melhor_modelo):\n",
    "          melhor_modelo = lista_precisao[i+1]\n",
    "          modelo_temp = redeNeural.copy()\n",
    "\n",
    "    return lista_custo, lista_precisao, modelo_temp"
   ]
  },
  {
   "cell_type": "code",
   "execution_count": 11,
   "metadata": {},
   "outputs": [],
   "source": [
    "def saveModelo(modelo):\n",
    "    filename = f'{modelo.__class__.__name__}.pkl'\n",
    "    with open(filename, 'wb') as file:\n",
    "        pickle.dump(modelo, file)\n",
    "\n",
    "def loadModelo(nome):\n",
    "    with open(nome, 'rb') as file:\n",
    "        modelo = pickle.load(file)\n",
    "        return modelo"
   ]
  },
  {
   "cell_type": "code",
   "execution_count": 12,
   "metadata": {
    "colab": {
     "base_uri": "https://localhost:8080/"
    },
    "id": "c9Xkzx_JZ0IL",
    "outputId": "40b04a67-883b-4fea-9547-2cc068778ab8"
   },
   "outputs": [
    {
     "name": "stdout",
     "output_type": "stream",
     "text": [
      "Custo Inicial:  1.9119397514654368\n"
     ]
    },
    {
     "ename": "KeyboardInterrupt",
     "evalue": "",
     "output_type": "error",
     "traceback": [
      "\u001b[31m---------------------------------------------------------------------------\u001b[39m",
      "\u001b[31mKeyboardInterrupt\u001b[39m                         Traceback (most recent call last)",
      "\u001b[36mCell\u001b[39m\u001b[36m \u001b[39m\u001b[32mIn[12]\u001b[39m\u001b[32m, line 2\u001b[39m\n\u001b[32m      1\u001b[39m rede1 = NeuralNetwork(train_images_flat, train_labels,[\u001b[32m32\u001b[39m,\u001b[32m32\u001b[39m],\u001b[32m10\u001b[39m,\u001b[32m0\u001b[39m)\n\u001b[32m----> \u001b[39m\u001b[32m2\u001b[39m lista_custo, lista_precisao, melhor_modelo = \u001b[43mtreinarRede\u001b[49m\u001b[43m(\u001b[49m\u001b[43mrede1\u001b[49m\u001b[43m,\u001b[49m\u001b[32;43m0.4\u001b[39;49m\u001b[43m,\u001b[49m\u001b[43m \u001b[49m\u001b[32;43m16\u001b[39;49m\u001b[43m,\u001b[49m\u001b[43m \u001b[49m\u001b[32;43m50\u001b[39;49m\u001b[43m,\u001b[49m\u001b[43m \u001b[49m\u001b[43mtest_images_flat\u001b[49m\u001b[43m,\u001b[49m\u001b[43m \u001b[49m\u001b[43mtest_labels\u001b[49m\u001b[43m)\u001b[49m\n",
      "\u001b[36mCell\u001b[39m\u001b[36m \u001b[39m\u001b[32mIn[10]\u001b[39m\u001b[32m, line 36\u001b[39m, in \u001b[36mtreinarRede\u001b[39m\u001b[34m(redeNeural, learning_rate, batch_size, epocas, test_images, test_labels)\u001b[39m\n\u001b[32m     34\u001b[39m \u001b[38;5;66;03m# Calcula o gradiente médio para o batch\u001b[39;00m\n\u001b[32m     35\u001b[39m gradientePeso, gradienteBias = media_gradiente(pesoMedio, biasMedio, batch_size)\n\u001b[32m---> \u001b[39m\u001b[32m36\u001b[39m \u001b[43mredeNeural\u001b[49m\u001b[43m.\u001b[49m\u001b[43mupdateWeights\u001b[49m\u001b[43m(\u001b[49m\u001b[43mlearning_rate\u001b[49m\u001b[43m,\u001b[49m\u001b[43m \u001b[49m\u001b[43mgradientePeso\u001b[49m\u001b[43m)\u001b[49m  \u001b[38;5;66;03m# Atualiza pesos\u001b[39;00m\n\u001b[32m     37\u001b[39m redeNeural.updateBias(learning_rate, gradienteBias)  \u001b[38;5;66;03m# Atualiza bias\u001b[39;00m\n\u001b[32m     38\u001b[39m redeNeural.fPropagation()\n",
      "\u001b[36mCell\u001b[39m\u001b[36m \u001b[39m\u001b[32mIn[7]\u001b[39m\u001b[32m, line 123\u001b[39m, in \u001b[36mNeuralNetwork.updateWeights\u001b[39m\u001b[34m(self, learning_rate, gradiente_pesos)\u001b[39m\n\u001b[32m    121\u001b[39m \u001b[38;5;28;01mfor\u001b[39;00m i \u001b[38;5;129;01min\u001b[39;00m \u001b[38;5;28mrange\u001b[39m(\u001b[38;5;28mlen\u001b[39m(gradiente_pesos)):\n\u001b[32m    122\u001b[39m   \u001b[38;5;28;01mif\u001b[39;00m i == \u001b[32m0\u001b[39m: \u001b[38;5;66;03m#se é o primeiro\u001b[39;00m\n\u001b[32m--> \u001b[39m\u001b[32m123\u001b[39m     \u001b[38;5;28mself\u001b[39m.camada_input_pesos = \u001b[38;5;28mself\u001b[39m.camada_input_pesos - learning_rate * gradiente_pesos[i]\n\u001b[32m    124\u001b[39m   \u001b[38;5;28;01melse\u001b[39;00m:\n\u001b[32m    125\u001b[39m     \u001b[38;5;28mself\u001b[39m.camada_pesos[i-\u001b[32m1\u001b[39m] = \u001b[38;5;28mself\u001b[39m.camada_pesos[i-\u001b[32m1\u001b[39m] - learning_rate * gradiente_pesos[i]\n",
      "\u001b[31mKeyboardInterrupt\u001b[39m: "
     ]
    }
   ],
   "source": [
    "rede1 = NeuralNetwork(train_images_flat, train_labels,[32,32],10,0)\n",
    "lista_custo, lista_precisao, melhor_modelo = treinarRede(rede1,0.4, 16, 50, test_images_flat, test_labels)"
   ]
  },
  {
   "cell_type": "code",
   "execution_count": null,
   "metadata": {
    "colab": {
     "base_uri": "https://localhost:8080/",
     "height": 1000
    },
    "id": "E0cvTeYWI_VF",
    "outputId": "4075f08d-b14b-4b6f-a828-c978f09a8f70"
   },
   "outputs": [
    {
     "name": "stdout",
     "output_type": "stream",
     "text": [
      "Correto:  \n",
      "Previsto:  3  - Certeza:  96.8418574199239 % \n",
      "Esperado:  3\n"
     ]
    },
    {
     "data": {
      "image/png": "[encoded data removed]",
      "text/plain": [
       "<Figure size 640x480 with 1 Axes>"
      ]
     },
     "metadata": {},
     "output_type": "display_data"
    },
    {
     "name": "stdout",
     "output_type": "stream",
     "text": [
      "Correto:  \n",
      "Previsto:  1  - Certeza:  98.65239663587478 % \n",
      "Esperado:  1\n"
     ]
    },
    {
     "data": {
      "image/png": "[encoded data removed]",
      "text/plain": [
       "<Figure size 640x480 with 1 Axes>"
      ]
     },
     "metadata": {},
     "output_type": "display_data"
    },
    {
     "name": "stdout",
     "output_type": "stream",
     "text": [
      "Correto:  \n",
      "Previsto:  3  - Certeza:  98.63155289364646 % \n",
      "Esperado:  3\n"
     ]
    },
    {
     "data": {
      "image/png": "[encoded data removed]",
      "text/plain": [
       "<Figure size 640x480 with 1 Axes>"
      ]
     },
     "metadata": {},
     "output_type": "display_data"
    },
    {
     "name": "stdout",
     "output_type": "stream",
     "text": [
      "Correto:  \n",
      "Previsto:  4  - Certeza:  42.92382856903702 % \n",
      "Esperado:  4\n"
     ]
    },
    {
     "data": {
      "image/png": "[encoded data removed]",
      "text/plain": [
       "<Figure size 640x480 with 1 Axes>"
      ]
     },
     "metadata": {},
     "output_type": "display_data"
    },
    {
     "name": "stdout",
     "output_type": "stream",
     "text": [
      "Correto:  \n",
      "Previsto:  7  - Certeza:  93.60222275798382 % \n",
      "Esperado:  7\n"
     ]
    },
    {
     "data": {
      "image/png": "[encoded data removed]",
      "text/plain": [
       "<Figure size 640x480 with 1 Axes>"
      ]
     },
     "metadata": {},
     "output_type": "display_data"
    }
   ],
   "source": [
    "for i in range(30,35):\n",
    "  melhor_modelo.preverImagem(test_images_flat, test_labels, i)\n",
    "\n",
    "saveModelo(melhor_modelo)"
   ]
  },
  {
   "cell_type": "code",
   "execution_count": null,
   "metadata": {
    "colab": {
     "base_uri": "https://localhost:8080/",
     "height": 472
    },
    "id": "pUOGLnvHI_o_",
    "outputId": "d9ed321b-a38b-42a0-891a-4ffc7a7f55bc"
   },
   "outputs": [
    {
     "data": {
      "image/png": "[encoded data removed]",
      "text/plain": [
       "<Figure size 640x480 with 1 Axes>"
      ]
     },
     "metadata": {},
     "output_type": "display_data"
    }
   ],
   "source": [
    "indices = list(range(len(lista_precisao)))\n",
    "\n",
    "# Criando o gráfico\n",
    "plt.plot(indices, lista_precisao, marker='o', linestyle='-', color='b')\n",
    "\n",
    "# Adicionando título e rótulos\n",
    "plt.title('Precisão x Epocas')\n",
    "plt.xlabel('Epocas')\n",
    "plt.ylabel('Precisão')\n",
    "\n",
    "# Mostrando a grade\n",
    "plt.grid()\n",
    "\n",
    "# Exibindo o gráfico\n",
    "plt.show()"
   ]
  },
  {
   "cell_type": "code",
   "execution_count": 13,
   "metadata": {
    "colab": {
     "base_uri": "https://localhost:8080/",
     "height": 1000
    },
    "id": "P6xJ6LrpQIoC",
    "outputId": "28e507fd-3adc-4d8d-ba63-3625befa4aae"
   },
   "outputs": [
    {
     "name": "stdout",
     "output_type": "stream",
     "text": [
      "93.88\n"
     ]
    }
   ],
   "source": [
    "#print(melhor_modelo.testeModelo(test_images_flat, test_labels))\n",
    "#melhor_modelo.verCamadaHidden()\n",
    "\n",
    "modelo = loadModelo('NeuralNetwork.pkl')\n",
    "print(modelo.testeModelo(test_images_flat, test_labels))"
   ]
  },
  {
   "cell_type": "code",
   "execution_count": 14,
   "metadata": {},
   "outputs": [],
   "source": [
    "import pygame\n",
    "from PIL import Image\n",
    "import numpy as np\n",
    "import time\n",
    "\n",
    "def main(modelo):\n",
    "    window_size = 280\n",
    "    scale = 15\n",
    "    pixel_size = 28\n",
    "\n",
    "    pygame.init()\n",
    "    screen = pygame.display.set_mode((window_size, window_size))\n",
    "    pygame.display.set_caption(\"Desenhe o Número\")\n",
    "    font = pygame.font.Font(None, 16)\n",
    "    \n",
    "    background_color = (0, 0, 0)\n",
    "    draw_color = (255, 255, 255)\n",
    "    screen.fill(background_color)\n",
    "    drawing = False\n",
    "    last_inference_time = time.time()\n",
    "\n",
    "    running = True\n",
    "    while running:\n",
    "        for event in pygame.event.get():\n",
    "            if event.type == pygame.QUIT:\n",
    "                running = False\n",
    "            elif event.type == pygame.MOUSEBUTTONDOWN:\n",
    "                drawing = True\n",
    "            elif event.type == pygame.MOUSEBUTTONUP:\n",
    "                drawing = False\n",
    "            elif event.type == pygame.MOUSEMOTION and drawing:\n",
    "                x, y = event.pos\n",
    "                pygame.draw.rect(screen, draw_color, (x, y, scale, scale))\n",
    "            elif event.type == pygame.KEYDOWN:\n",
    "                if event.key == pygame.K_RETURN:\n",
    "                    screen.fill(background_color)\n",
    "                    pygame.display.flip()\n",
    "\n",
    "        pygame.display.flip()\n",
    "\n",
    "        current_time = time.time()\n",
    "        if current_time - last_inference_time > 1:\n",
    "            last_inference_time = current_time\n",
    "            \n",
    "            try:\n",
    "                # Processamento da imagem para inferência\n",
    "                pygame_image = pygame.surfarray.array3d(pygame.display.get_surface()).swapaxes(0, 1)\n",
    "                img = Image.fromarray(pygame_image).convert('L').resize((pixel_size, pixel_size), Image.LANCZOS)\n",
    "\n",
    "                # Converte a imagem em um array NumPy\n",
    "                img_array = np.array(img)\n",
    "\n",
    "                # Usar a função de previsão com a imagem processada\n",
    "                numero, certeza = modelo.preverImageCustomOnlyText(img_array)\n",
    "\n",
    "                # Exibir o número e a certeza na janela\n",
    "                screen.fill(background_color, (0, 0, window_size, 50))\n",
    "                texto = font.render(f\"Número: {numero}, Certeza: {certeza:.2f}%\", True, draw_color)\n",
    "                screen.blit(texto, (10, 10))\n",
    "\n",
    "            except Exception as e:\n",
    "                print(f\"Erro ao processar a imagem: {e}\")\n",
    "\n",
    "    pygame.quit()\n",
    "\n",
    "if __name__ == \"__main__\":\n",
    "    main(modelo)\n"
   ]
  }
 ],
 "metadata": {
  "colab": {
   "provenance": []
  },
  "kernelspec": {
   "display_name": "MLP_env",
   "language": "python",
   "name": "python3"
  },
  "language_info": {
   "codemirror_mode": {
    "name": "ipython",
    "version": 3
   },
   "file_extension": ".py",
   "mimetype": "text/x-python",
   "name": "python",
   "nbconvert_exporter": "python",
   "pygments_lexer": "ipython3",
   "version": "3.12.11"
  }
 },
 "nbformat": 4,
 "nbformat_minor": 0
}
